{
  "nbformat": 4,
  "nbformat_minor": 5,
  "metadata": {
    "kernelspec": {
      "name": "python3",
      "display_name": "Python 3",
      "language": "python"
    },
    "language_info": {
      "name": "python",
      "version": "3.6.13",
      "mimetype": "text/x-python",
      "codemirror_mode": {
        "name": "ipython",
        "version": 3
      },
      "pygments_lexer": "ipython3",
      "nbconvert_exporter": "python",
      "file_extension": ".py"
    },
    "colab": {
      "provenance": []
    }
  },
  "cells": [
    {
      "cell_type": "markdown",
      "metadata": {
        "id": "mwY8-ebWnn8k"
      },
      "source": [
        "# Assignment: Complete the Snippet\n"
      ],
      "id": "mwY8-ebWnn8k"
    },
    {
      "cell_type": "markdown",
      "metadata": {
        "id": "98h1wLbDnn8n"
      },
      "source": [
        "Shikhar started building a basic Python Script which goes through the entire text of a particular book and mugs up all its words. After that it asks you for a word, goes over the times when this word came in the text and gives you the complete sentence in which it was used. You may choose to ask for as many such sentences as the number of occurences of the word.\n",
        "\n",
        "He's managed to come up with the part where he loads the file into Memory. He also managed to come up with snippets of code which could potentially do something if completed, but he has many deadlines to look after and not enough caffeine to turn to code. Can you help him?"
      ],
      "id": "98h1wLbDnn8n"
    },
    {
      "cell_type": "code",
      "metadata": {
        "trusted": true,
        "id": "W2FPoG_Lnn8n"
      },
      "source": [
        "File = open(\"novel.txt\",'r')     #This helps in opening the file which is to be read"
      ],
      "id": "W2FPoG_Lnn8n",
      "execution_count": 126,
      "outputs": []
    },
    {
      "cell_type": "markdown",
      "source": [
        "# New Section"
      ],
      "metadata": {
        "id": "g-uMfKtdvKyo"
      },
      "id": "g-uMfKtdvKyo"
    },
    {
      "cell_type": "markdown",
      "metadata": {
        "id": "6n2G1L6qnn8o"
      },
      "source": [
        "Next he makes a list of all the words present in the novel mapping them to their index(position) in the list of words (i.e. ListOfWords). This is done by mapping every word (a string) to a list (list of indices), and this is stored as a Dictionary (DictionaryoOfWords)\n",
        "\n",
        "\n",
        "\n",
        "He makes use of the readlines() method which is used to extract all the lines from any text and the split() function which could be used to split any sentence into distinct words. The replace() method is used on strings to replace certain segments of the string with something else."
      ],
      "id": "6n2G1L6qnn8o"
    },
    {
      "cell_type": "code",
      "metadata": {
        "trusted": true,
        "id": "wuz-iSaonn8o"
      },
      "source": [
        "DictionaryOfWords = {}         #Dictionary mapping every word to a list (of indices of the words' occurences)\n",
        "Novel = []                     #List of all words in the order, in which they appear!\n",
        "\n",
        "\n",
        "\n",
        "i = 0                   #Counter Variable to keep track of index of words\n",
        "\n",
        "for line in File.readlines():     #Iterate over all lines present in the text\n",
        "    \n",
        "    #Look at Python's Conciseness!\n",
        "    \n",
        "    line = line.replace(\".\",\"\").replace(\",\",\"\").replace('?','').replace('!','').replace('[','').replace(']','')\\\n",
        "    .replace('(','').replace(')','').replace('%','').replace('/','')\n",
        "\n",
        "      \n",
        "    #COMPLETE THE CODE FROM HERE:\n",
        "    \n",
        "    #This would split the line into many different words, and iterate over these words\n",
        "    \n",
        "    for word in line.split(' '): \n",
        "                                                                             \n",
        "        if word in DictionaryOfWords.keys():     #If the word is already present in the dictionary\n",
        "                                                                             \n",
        "            DictionaryOfWords[word].append(i)        #Add the index into the pre-existing list for this word\n",
        "                                                                             \n",
        "        else:\n",
        "            DictionaryOfWords[word] = []\n",
        "            DictionaryOfWords[word].append(i)       #Create a new list of indices for this word, with a single element\n",
        "                                                                             \n",
        "        \n",
        "        Novel.append(word)        #Add the Word in the Novel's ordered list of words\n",
        "                                                                             \n",
        "        i+=1\n",
        "    "
      ],
      "id": "wuz-iSaonn8o",
      "execution_count": 127,
      "outputs": []
    },
    {
      "cell_type": "code",
      "source": [
        "DictionaryOfWords['magic']"
      ],
      "metadata": {
        "colab": {
          "base_uri": "https://localhost:8080/"
        },
        "id": "s46PvNvmdiwV",
        "outputId": "b56ffc72-47e0-4177-f95d-52432b8f2c25"
      },
      "id": "s46PvNvmdiwV",
      "execution_count": 128,
      "outputs": [
        {
          "output_type": "execute_result",
          "data": {
            "text/plain": [
              "[17782,\n",
              " 18876,\n",
              " 19164,\n",
              " 19846,\n",
              " 20478,\n",
              " 22976,\n",
              " 23366,\n",
              " 24027,\n",
              " 25524,\n",
              " 29095,\n",
              " 30890,\n",
              " 30976,\n",
              " 33713,\n",
              " 36886,\n",
              " 37326,\n",
              " 37696,\n",
              " 38967,\n",
              " 39259,\n",
              " 40221,\n",
              " 45129,\n",
              " 50071,\n",
              " 55613,\n",
              " 73877,\n",
              " 83856,\n",
              " 90446,\n",
              " 90940]"
            ]
          },
          "metadata": {},
          "execution_count": 128
        }
      ]
    },
    {
      "cell_type": "markdown",
      "metadata": {
        "id": "7Q0xPLDynn8o"
      },
      "source": [
        "That guy truly left a lot of work for you!\n",
        "\n",
        "Now that you've done that, We have the words in the novel alongwith where they appeared in the text loaded into memory (Thanks to You!).\n",
        "\n",
        "The Next Step would be to answer any queries the user may have.\n",
        "\n",
        "To do this, we define the function GetQuery() which returns the word as well as the number of results the user wants to see (as a tuple):\n",
        "\n"
      ],
      "id": "7Q0xPLDynn8o"
    },
    {
      "cell_type": "code",
      "metadata": {
        "trusted": true,
        "id": "rZdPHcyZnn8p"
      },
      "source": [
        "#COMPLETE THE CODE FROM HERE:\n",
        "\n",
        "def GetQuery():\n",
        "   \n",
        "    word = input()        #Get Input from the user regarding what word s/he wants to query for\n",
        "\n",
        "    Number = int(input())      #Get Input from the user regarding how many results the user wants to see\n",
        "\n",
        "    return (PrintResult(word, Number))                 #Return as output a tuple of the word and the Number of results       "
      ],
      "id": "rZdPHcyZnn8p",
      "execution_count": 129,
      "outputs": []
    },
    {
      "cell_type": "markdown",
      "metadata": {
        "id": "f0ExNn2Hnn8p"
      },
      "source": [
        "Now, We need a function which takes as input the index of any particular word and prints the words surrounding it as if they were in an actual sentence. \n",
        "\n",
        "This is done by iterating over the words surrounding it, and printing them with gaps in between. We also assume that this occurence isn't a boundary case and thus, the 10 words surronding it actually exist."
      ],
      "id": "f0ExNn2Hnn8p"
    },
    {
      "cell_type": "code",
      "metadata": {
        "trusted": true,
        "id": "NFjuNsIjnn8q"
      },
      "source": [
        "def PrintContext(index):\n",
        "    \n",
        "    global Novel                          #Declares the list Novel as a Global Variable\n",
        "    \n",
        "    #COMPLETE THE CODE FROM HERE:\n",
        "    \n",
        "    for i in range(index-5,index+5) :\n",
        "\n",
        "                                           #Define the range so that the task above is fulfilled\n",
        "      print(Novel[i], end = ' ')           #Print the word (using List Indexing) with a space after that\n",
        "        \n",
        "    print('\\n')"
      ],
      "id": "NFjuNsIjnn8q",
      "execution_count": 130,
      "outputs": []
    },
    {
      "cell_type": "markdown",
      "metadata": {
        "id": "WaT0_Nsxnn8q"
      },
      "source": [
        "The result of the GetQuery() function will be passed into a second function which would take as input the word and the number of results to be displayed and do so!"
      ],
      "id": "WaT0_Nsxnn8q"
    },
    {
      "cell_type": "code",
      "metadata": {
        "trusted": true,
        "id": "lJe_w2C0nn8r"
      },
      "source": [
        "def PrintResult(word, NumQuery):\n",
        "  \n",
        "    global DictionaryOfWords                #Allows us to use the Dictionary as a global variable\n",
        "    \n",
        "    #COMPLETE THE CODE FROM HERE:\n",
        "    \n",
        "    L = DictionaryOfWords[word] \n",
        "    \n",
        "    for i in range(0,min(len(L),NumQuery)):\n",
        "        \n",
        "        PrintContext(L[i])             #Actually print the words surrounding the ith occurence of the given word\n",
        "        "
      ],
      "id": "lJe_w2C0nn8r",
      "execution_count": 131,
      "outputs": []
    },
    {
      "cell_type": "markdown",
      "metadata": {
        "id": "JRNRUKLTnn8s"
      },
      "source": [
        "Finally, you need an infinite loop which runs until the user wants it to and asks for the next word (if the user wants to query more) or end the loop."
      ],
      "id": "JRNRUKLTnn8s"
    },
    {
      "cell_type": "code",
      "metadata": {
        "trusted": true,
        "id": "b5LvL0TQnn8s",
        "colab": {
          "base_uri": "https://localhost:8080/"
        },
        "outputId": "efd04058-3c18-4ea0-bea1-c2e2bcd5454e"
      },
      "source": [
        "while 1>0 :   \n",
        "    \n",
        "    Choice = input('Press Y in order to Continue with the next query or N to end.Please press Enter after entering your choice!')\n",
        "    \n",
        "    #COMPLETE THE CODE FROM HERE:\n",
        "    \n",
        "    if Choice=='Y' :                     # If the user wants to query \n",
        "        GetQuery()                    #Use some of the past defined function to do so\n",
        "        \n",
        "    else:\n",
        "        \n",
        "        break                                 #Else end the loop"
      ],
      "id": "b5LvL0TQnn8s",
      "execution_count": null,
      "outputs": [
        {
          "output_type": "stream",
          "name": "stdout",
          "text": [
            "Press Y in order to Continue with the next query or N to end.Please press Enter after entering your choice!Y\n",
            "magic\n",
            "10\n",
            "— 17782\n",
            "not 17782\n",
            "supposed 17782\n",
            "ter 17782\n",
            "do 17782\n",
            "magic 17782\n",
            "strictly 17782\n",
            "speakin’\n",
            " 17782\n",
            "I 17782\n",
            "was 17782\n",
            "\n",
            "\n",
            "Harry 18876\n",
            "eager 18876\n",
            "to 18876\n",
            "see 18876\n",
            "more 18876\n",
            "magic 18876\n",
            "Hagrid\n",
            " 18876\n",
            "pulled 18876\n",
            "out 18876\n",
            "the 18876\n",
            "\n",
            "\n",
            "Blimey 19164\n",
            "Harry 19164\n",
            "everyone’d 19164\n",
            "be 19164\n",
            "wantin’ 19164\n",
            "magic 19164\n",
            "solutions 19164\n",
            "to\n",
            " 19164\n",
            "their 19164\n",
            "problems 19164\n",
            "\n",
            "\n",
            "it 19846\n",
            "could 19846\n",
            "sell 19846\n",
            "you 19846\n",
            "a 19846\n",
            "magic 19846\n",
            "wand 19846\n",
            "This 19846\n",
            "was 19846\n",
            "just 19846\n",
            "\n",
            "\n",
            "you”\n",
            " 20478\n",
            "\n",
            " 20478\n",
            "“What 20478\n",
            "sort 20478\n",
            "of 20478\n",
            "magic 20478\n",
            "do 20478\n",
            "you 20478\n",
            "teach 20478\n",
            "Professor 20478\n",
            "\n",
            "\n",
            "gets 22976\n",
            "drunk 22976\n",
            "tries 22976\n",
            "to 22976\n",
            "do\n",
            " 22976\n",
            "magic 22976\n",
            "and 22976\n",
            "ends 22976\n",
            "up 22976\n",
            "setting 22976\n",
            "\n",
            "\n",
            "were 23366\n",
            "the 23366\n",
            "only 23366\n",
            "ones 23366\n",
            "with 23366\n",
            "magic 23366\n",
            "in 23366\n",
            "’em 23366\n",
            "in 23366\n",
            "a 23366\n",
            "\n",
            "\n",
            "the 24027\n",
            "best\n",
            " 24027\n",
            "wand”\n",
            " 24027\n",
            "\n",
            " 24027\n",
            "A 24027\n",
            "magic 24027\n",
            "wand 24027\n",
            " 24027\n",
            " 24027\n",
            " 24027\n",
            "\n",
            "\n",
            "I\n",
            " 25524\n",
            "don’t 25524\n",
            "know 25524\n",
            "anything 25524\n",
            "about 25524\n",
            "magic 25524\n",
            "at 25524\n",
            "all 25524\n",
            "How 25524\n",
            "can 25524\n",
            "\n",
            "\n",
            "you 29095\n",
            "must 29095\n",
            "know 29095\n",
            "loads 29095\n",
            "of 29095\n",
            "magic 29095\n",
            "already”\n",
            " 29095\n",
            "\n",
            " 29095\n",
            "The 29095\n",
            "Weasleys 29095\n",
            "\n",
            "\n"
          ]
        }
      ]
    }
  ]
}